{
  "nbformat": 4,
  "nbformat_minor": 0,
  "metadata": {
    "colab": {
      "provenance": []
    },
    "kernelspec": {
      "name": "python3",
      "display_name": "Python 3"
    },
    "language_info": {
      "name": "python"
    }
  },
  "cells": [
    {
      "cell_type": "code",
      "execution_count": null,
      "metadata": {
        "id": "p-5vXdzhOLTI"
      },
      "outputs": [],
      "source": [
        "#önce bağmlılıklarını aktarmalıyız\n",
        "#tensorflow (tf olarak adlandırdık) ve numpy(np olarak adlandırdık)\n",
        "import tensorflow as tf\n",
        "\n",
        "import numpy as np\n",
        "import logging\n",
        "logger = tf.get_logger()\n",
        "logger.setLevel(logging.ERROR)"
      ]
    },
    {
      "cell_type": "code",
      "source": [
        "#şimdi datalarımızı ayarlayalım\n",
        "#input değerleri için bir array ve output değerleri için bir array oluşturmalıyız.\n",
        "\n",
        "x_input = np.array([3.825,3.827,3.828,3.830,3.831,3.833,3.834,3.836,3.837,3.839,3.840,3.842,3.843,3.845,\n",
        "                    3.846,3.848,3.849,3.851,3.852,3.854,3.855,3.857,3.858,3.860,3.861,3.863,3.864,3.866,3.867], dtype=float)\n",
        "y_output = np.array([-0.41,4.02,6.26,10.54,12.48,15.76,17.02,18.64,18.96,18.60,17.92,15.65,14.11,10.39,8.29,3.85,1.61,-2.65,-4.59,-7.84,\n",
        "                     -9.08,-10.66,-10.97,-10.57,-9.87,-7.57,-6.02,-2.27,-0.17], dtype=float)\n",
        "\n",
        "print(len(x_input))\n",
        "print(len(y_output))\n",
        "#her x değerine karşılık gelen y değerini döngüyle yazdırma\n",
        "for i,c in enumerate(x_input):\n",
        "  print(\"{} values X = {} values Y\".format(c,y_output[i]))"
      ],
      "metadata": {
        "colab": {
          "base_uri": "https://localhost:8080/"
        },
        "outputId": "696ee9ac-6995-46eb-e6a7-13becee7cd11",
        "id": "09oyWCiiDxhh"
      },
      "execution_count": null,
      "outputs": [
        {
          "output_type": "stream",
          "name": "stdout",
          "text": [
            "29\n",
            "29\n",
            "3.825 values X = -0.41 values Y\n",
            "3.827 values X = 4.02 values Y\n",
            "3.828 values X = 6.26 values Y\n",
            "3.83 values X = 10.54 values Y\n",
            "3.831 values X = 12.48 values Y\n",
            "3.833 values X = 15.76 values Y\n",
            "3.834 values X = 17.02 values Y\n",
            "3.836 values X = 18.64 values Y\n",
            "3.837 values X = 18.96 values Y\n",
            "3.839 values X = 18.6 values Y\n",
            "3.84 values X = 17.92 values Y\n",
            "3.842 values X = 15.65 values Y\n",
            "3.843 values X = 14.11 values Y\n",
            "3.845 values X = 10.39 values Y\n",
            "3.846 values X = 8.29 values Y\n",
            "3.848 values X = 3.85 values Y\n",
            "3.849 values X = 1.61 values Y\n",
            "3.851 values X = -2.65 values Y\n",
            "3.852 values X = -4.59 values Y\n",
            "3.854 values X = -7.84 values Y\n",
            "3.855 values X = -9.08 values Y\n",
            "3.857 values X = -10.66 values Y\n",
            "3.858 values X = -10.97 values Y\n",
            "3.86 values X = -10.57 values Y\n",
            "3.861 values X = -9.87 values Y\n",
            "3.863 values X = -7.57 values Y\n",
            "3.864 values X = -6.02 values Y\n",
            "3.866 values X = -2.27 values Y\n",
            "3.867 values X = -0.17 values Y\n"
          ]
        }
      ]
    },
    {
      "cell_type": "code",
      "source": [
        "# Veri setini görselleştir\n",
        "import matplotlib.pyplot as plt\n",
        "\n",
        "def plot_data(x_input, y_output):\n",
        "    plt.scatter(x_input, y_output, label='Veri Noktaları')\n",
        "    plt.xlabel('x')\n",
        "    plt.ylabel('y')\n",
        "    plt.legend()\n",
        "    plt.show()\n",
        "    plt.plot()"
      ],
      "metadata": {
        "id": "I0VE620EjuSX"
      },
      "execution_count": null,
      "outputs": []
    },
    {
      "cell_type": "code",
      "source": [
        "def plot_data(x_input, y_output):\n",
        "    plt.scatter(x_input, y_output, label='Veri Noktaları')\n",
        "    plt.xlabel('x')\n",
        "    plt.ylabel('y')\n",
        "    plt.legend()\n",
        "    plt.show()\n",
        "\n",
        "plot_data(x_input, y_output)"
      ],
      "metadata": {
        "colab": {
          "base_uri": "https://localhost:8080/",
          "height": 450
        },
        "id": "BZ21rLkq9eyc",
        "outputId": "36bb6d53-edec-46d7-b211-1010d653a28e"
      },
      "execution_count": null,
      "outputs": [
        {
          "output_type": "display_data",
          "data": {
            "text/plain": [
              "<Figure size 640x480 with 1 Axes>"
            ],
            "image/png": "[encoded data removed]"
          },
          "metadata": {}
        }
      ]
    },
    {
      "cell_type": "code",
      "source": [
        "# Modeli oluşturalım\n",
        "model = tf.keras.Sequential([\n",
        "    tf.keras.layers.Dense(units=1, input_shape=[1])\n",
        "])"
      ],
      "metadata": {
        "id": "bJRdUqCN9n68"
      },
      "execution_count": null,
      "outputs": []
    },
    {
      "cell_type": "code",
      "source": [
        "# Modeli derleyelim\n",
        "model.compile(loss='mean_squared_error',\n",
        "              optimizer=tf.keras.optimizers.Adam(0.01))"
      ],
      "metadata": {
        "id": "SkQPUx1a9rzf"
      },
      "execution_count": null,
      "outputs": []
    },
    {
      "cell_type": "code",
      "source": [
        "# Modeli eğitelim\n",
        "history = model.fit(x_input, y_output, epochs=500, verbose=False)\n",
        "print(\"Model eğitimi tamamlandı.\")"
      ],
      "metadata": {
        "colab": {
          "base_uri": "https://localhost:8080/"
        },
        "id": "he1HZuhU9vn4",
        "outputId": "028a0f51-e024-41ec-adeb-40731aae2ad9"
      },
      "execution_count": null,
      "outputs": [
        {
          "output_type": "stream",
          "name": "stdout",
          "text": [
            "Model eğitimi tamamlandı.\n"
          ]
        }
      ]
    },
    {
      "cell_type": "code",
      "source": [
        "# Eğitimin gelişimini görselleştirelim\n",
        "plt.xlabel('Epoch Sayısı')\n",
        "plt.ylabel(\"Kayıp Büyüklüğü\")\n",
        "plt.plot(history.history['loss'])"
      ],
      "metadata": {
        "colab": {
          "base_uri": "https://localhost:8080/",
          "height": 469
        },
        "id": "HEeS1wIf9vYv",
        "outputId": "6f951e44-76e5-44f5-b91f-1246bdfdcd1f"
      },
      "execution_count": null,
      "outputs": [
        {
          "output_type": "execute_result",
          "data": {
            "text/plain": [
              "[<matplotlib.lines.Line2D at 0x7faf7c70c280>]"
            ]
          },
          "metadata": {},
          "execution_count": 11
        },
        {
          "output_type": "display_data",
          "data": {
            "text/plain": [
              "<Figure size 640x480 with 1 Axes>"
            ],
            "image/png": "[encoded data removed]"
          },
          "metadata": {}
        }
      ]
    },
    {
      "cell_type": "code",
      "source": [
        "# Modeli test edelim\n",
        "test_value = np.array([3.847])\n",
        "predicted_value = model.predict(test_value)\n",
        "print(\"Tahmin edilen değer:\", predicted_value)"
      ],
      "metadata": {
        "colab": {
          "base_uri": "https://localhost:8080/"
        },
        "id": "JFq1IwdR9vFc",
        "outputId": "c8ec86b5-ba1a-46fa-ae4c-38569510192d"
      },
      "execution_count": null,
      "outputs": [
        {
          "output_type": "stream",
          "name": "stdout",
          "text": [
            "1/1 [==============================] - 0s 70ms/step\n",
            "Tahmin edilen değer: [[3.8241568]]\n"
          ]
        }
      ]
    }
  ]
}